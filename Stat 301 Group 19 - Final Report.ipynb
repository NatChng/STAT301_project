{
 "cells": [
  {
   "cell_type": "markdown",
   "id": "bbf0c26e",
   "metadata": {},
   "source": [
    "# STAT 301 Group 19 - Final Project Report\n",
    "Authors: Andy Hong, Benedictus Harley Kartawidjaja, Dakshish Raj Paulvannan, Nathan Chang"
   ]
  },
  {
   "cell_type": "markdown",
   "id": "b5f1f31b",
   "metadata": {},
   "source": [
    "## 1. Introduction"
   ]
  },
  {
   "cell_type": "markdown",
   "id": "18b61237",
   "metadata": {},
   "source": [
    "The primary goal of our analysis is to analyze potential predictors to determine the odds of an employee staying or leaving a company, which will be conducted using the Employees dataset. Understanding the factors behind employee retention is crucial for companies to measure performance, reduce costs, and to continue improving workplace practices (Das et al, 2013).\n",
    "\n",
    "The Employees dataset consists of anonymized information about employees in a company, including: education level, professional history, salary, demographics, and information regarding their work with the company. This data was collected by the company Human Resources department and contributed to Kaggle, a community offering data science resources and tools."
   ]
  },
  {
   "cell_type": "markdown",
   "id": "61b7e5f9",
   "metadata": {},
   "source": [
    "### Overview of variables:\n",
    "- **Education** *(categorical)*: chr representing the highest level of education attained by the employee.\n",
    "\n",
    "- **JoiningYear** *(numerical)*: dbl representing the year a given employee first started working for the company.\n",
    "\n",
    "- **City** *(categorical)*: chr representing the city in which an employee works for the company.\n",
    "\n",
    "- **PaymentTier** *(categorical)*: dbl representing a bin containing an employee's salary.\n",
    "\n",
    "- **Age** *(numerical)*: dbl representing the age of employees working at a company.\n",
    "\n",
    "- **Gender** *(categorical)*: chr representing the sex of employees working at a company.\n",
    "\n",
    "- **EverBenched** *(binary)*: chr representing whether or not an employee has been benched, ie. had a period of time without work assigned to them.\n",
    "\n",
    "- **ExperienceInCurrentDomain** *(categorical)*: dbl representing the years of experience an employee has in the area of their role prior to joining the company.\n",
    "\n",
    "- **LeaveOrNot** *(binary)*: dbl representing whether an employee left of not."
   ]
  },
  {
   "cell_type": "markdown",
   "id": "05ab6cf9",
   "metadata": {},
   "source": [
    "To select a model, we'd analyze the relationship of these predictors with our response, LeaveOrNot, and their relationships with each other to determine the presence of interaction. After completing our analysis, we would then train a logistic model using these predictors to predict an employee's odds of leaving using a testing set. A logistic model was selected as our response is a binary variable.\n",
    "\n",
    "Our data supports this by providing information on all of these predictors, however, we will need to transform the data by pre-processing and dropping variables we do not wish to include."
   ]
  },
  {
   "cell_type": "markdown",
   "id": "f493be5f",
   "metadata": {},
   "source": [
    "**We excluded the following predictors:**\n",
    "- **Gender**: We chose to drop gender as it isn't inclusive as when the data was collected, Gender was presented as a binary option when in practice, many people identify as genders beyond the binary. Additionally current literature suggests that gender inequality leads to inaccurate results on employee retention (Lijster et al, 2023).\n",
    "\n",
    "- **JoiningYear**: We elected to exclude this as we felt that it wouldn't be able to provide much context without other information that we did not have access to. Ex. If we wanted to use JoiningYear to determine how long an employee has worked at the company, we are unable to do so without accessing information on when an employee left the company (if applicable). This approach is also flawed in that we won’t know how long an employee marked as staying is planning on continuing at the company (ex. There is no difference between an employee leaving in 1 day vs 1 year)."
   ]
  },
  {
   "cell_type": "markdown",
   "id": "eea751ce",
   "metadata": {},
   "source": [
    "## 2. Methods and Results\n",
    "\n",
    "### a. Exploratory Data Analysis"
   ]
  },
  {
   "cell_type": "code",
   "execution_count": 2,
   "id": "06ec9ce3",
   "metadata": {
    "tags": []
   },
   "outputs": [
    {
     "name": "stderr",
     "output_type": "stream",
     "text": [
      "\n",
      "Attaching package: ‘dplyr’\n",
      "\n",
      "\n",
      "The following objects are masked from ‘package:plyr’:\n",
      "\n",
      "    arrange, count, desc, failwith, id, mutate, rename, summarise,\n",
      "    summarize\n",
      "\n",
      "\n",
      "The following objects are masked from ‘package:stats’:\n",
      "\n",
      "    filter, lag\n",
      "\n",
      "\n",
      "The following objects are masked from ‘package:base’:\n",
      "\n",
      "    intersect, setdiff, setequal, union\n",
      "\n",
      "\n",
      "\n",
      "Attaching package: ‘dbplyr’\n",
      "\n",
      "\n",
      "The following objects are masked from ‘package:dplyr’:\n",
      "\n",
      "    ident, sql\n",
      "\n",
      "\n",
      "── \u001b[1mAttaching core tidyverse packages\u001b[22m ──────────────────────── tidyverse 2.0.0 ──\n",
      "\u001b[32m✔\u001b[39m \u001b[34mforcats  \u001b[39m 1.0.0     \u001b[32m✔\u001b[39m \u001b[34mreadr    \u001b[39m 2.1.4\n",
      "\u001b[32m✔\u001b[39m \u001b[34mggplot2  \u001b[39m 3.4.4     \u001b[32m✔\u001b[39m \u001b[34mstringr  \u001b[39m 1.5.1\n",
      "\u001b[32m✔\u001b[39m \u001b[34mlubridate\u001b[39m 1.9.3     \u001b[32m✔\u001b[39m \u001b[34mtibble   \u001b[39m 3.2.1\n",
      "\u001b[32m✔\u001b[39m \u001b[34mpurrr    \u001b[39m 1.0.2     \u001b[32m✔\u001b[39m \u001b[34mtidyr    \u001b[39m 1.3.0\n",
      "── \u001b[1mConflicts\u001b[22m ────────────────────────────────────────── tidyverse_conflicts() ──\n",
      "\u001b[31m✖\u001b[39m \u001b[34mdplyr\u001b[39m::\u001b[32marrange()\u001b[39m   masks \u001b[34mplyr\u001b[39m::arrange()\n",
      "\u001b[31m✖\u001b[39m \u001b[34mpurrr\u001b[39m::\u001b[32mcompact()\u001b[39m   masks \u001b[34mplyr\u001b[39m::compact()\n",
      "\u001b[31m✖\u001b[39m \u001b[34mdplyr\u001b[39m::\u001b[32mcount()\u001b[39m     masks \u001b[34mplyr\u001b[39m::count()\n",
      "\u001b[31m✖\u001b[39m \u001b[34mdplyr\u001b[39m::\u001b[32mdesc()\u001b[39m      masks \u001b[34mplyr\u001b[39m::desc()\n",
      "\u001b[31m✖\u001b[39m \u001b[34mdplyr\u001b[39m::\u001b[32mfailwith()\u001b[39m  masks \u001b[34mplyr\u001b[39m::failwith()\n",
      "\u001b[31m✖\u001b[39m \u001b[34mdplyr\u001b[39m::\u001b[32mfilter()\u001b[39m    masks \u001b[34mstats\u001b[39m::filter()\n",
      "\u001b[31m✖\u001b[39m \u001b[34mdplyr\u001b[39m::\u001b[32mid()\u001b[39m        masks \u001b[34mplyr\u001b[39m::id()\n",
      "\u001b[31m✖\u001b[39m \u001b[34mdbplyr\u001b[39m::\u001b[32mident()\u001b[39m    masks \u001b[34mdplyr\u001b[39m::ident()\n",
      "\u001b[31m✖\u001b[39m \u001b[34mdplyr\u001b[39m::\u001b[32mlag()\u001b[39m       masks \u001b[34mstats\u001b[39m::lag()\n",
      "\u001b[31m✖\u001b[39m \u001b[34mdplyr\u001b[39m::\u001b[32mmutate()\u001b[39m    masks \u001b[34mplyr\u001b[39m::mutate()\n",
      "\u001b[31m✖\u001b[39m \u001b[34mdplyr\u001b[39m::\u001b[32mrename()\u001b[39m    masks \u001b[34mplyr\u001b[39m::rename()\n",
      "\u001b[31m✖\u001b[39m \u001b[34mdbplyr\u001b[39m::\u001b[32msql()\u001b[39m      masks \u001b[34mdplyr\u001b[39m::sql()\n",
      "\u001b[31m✖\u001b[39m \u001b[34mdplyr\u001b[39m::\u001b[32msummarise()\u001b[39m masks \u001b[34mplyr\u001b[39m::summarise()\n",
      "\u001b[31m✖\u001b[39m \u001b[34mdplyr\u001b[39m::\u001b[32msummarize()\u001b[39m masks \u001b[34mplyr\u001b[39m::summarize()\n",
      "\u001b[36mℹ\u001b[39m Use the conflicted package (\u001b[3m\u001b[34m<http://conflicted.r-lib.org/>\u001b[39m\u001b[23m) to force all conflicts to become errors\n",
      "\n",
      "Attaching package: ‘cowplot’\n",
      "\n",
      "\n",
      "The following object is masked from ‘package:lubridate’:\n",
      "\n",
      "    stamp\n",
      "\n",
      "\n",
      "\n",
      "Attaching package: ‘reshape2’\n",
      "\n",
      "\n",
      "The following object is masked from ‘package:tidyr’:\n",
      "\n",
      "    smiths\n",
      "\n",
      "\n",
      "Loading required package: car\n",
      "\n",
      "Loading required package: carData\n",
      "\n",
      "\n",
      "Attaching package: ‘car’\n",
      "\n",
      "\n",
      "The following object is masked from ‘package:purrr’:\n",
      "\n",
      "    some\n",
      "\n",
      "\n",
      "The following object is masked from ‘package:dplyr’:\n",
      "\n",
      "    recode\n",
      "\n",
      "\n",
      "Loading required package: lmtest\n",
      "\n",
      "Loading required package: zoo\n",
      "\n",
      "\n",
      "Attaching package: ‘zoo’\n",
      "\n",
      "\n",
      "The following objects are masked from ‘package:base’:\n",
      "\n",
      "    as.Date, as.Date.numeric\n",
      "\n",
      "\n",
      "Loading required package: sandwich\n",
      "\n",
      "Loading required package: survival\n",
      "\n",
      "\n",
      "Attaching package: ‘modelr’\n",
      "\n",
      "\n",
      "The following object is masked from ‘package:broom’:\n",
      "\n",
      "    bootstrap\n",
      "\n",
      "\n",
      "Loading required package: Matrix\n",
      "\n",
      "\n",
      "Attaching package: ‘Matrix’\n",
      "\n",
      "\n",
      "The following objects are masked from ‘package:tidyr’:\n",
      "\n",
      "    expand, pack, unpack\n",
      "\n",
      "\n",
      "Loaded glmnet 4.1-8\n",
      "\n",
      "── \u001b[1mAttaching packages\u001b[22m ────────────────────────────────────── tidymodels 1.1.1 ──\n",
      "\n",
      "\u001b[32m✔\u001b[39m \u001b[34mdials       \u001b[39m 1.2.0     \u001b[32m✔\u001b[39m \u001b[34mtune        \u001b[39m 1.1.2\n",
      "\u001b[32m✔\u001b[39m \u001b[34mmodeldata   \u001b[39m 1.2.0     \u001b[32m✔\u001b[39m \u001b[34mworkflows   \u001b[39m 1.1.3\n",
      "\u001b[32m✔\u001b[39m \u001b[34mparsnip     \u001b[39m 1.1.1     \u001b[32m✔\u001b[39m \u001b[34mworkflowsets\u001b[39m 1.0.1\n",
      "\u001b[32m✔\u001b[39m \u001b[34mrecipes     \u001b[39m 1.0.8     \u001b[32m✔\u001b[39m \u001b[34myardstick   \u001b[39m 1.2.0\n",
      "\u001b[32m✔\u001b[39m \u001b[34mrsample     \u001b[39m 1.2.0     \n",
      "\n",
      "── \u001b[1mConflicts\u001b[22m ───────────────────────────────────────── tidymodels_conflicts() ──\n",
      "\u001b[31m✖\u001b[39m \u001b[34mdplyr\u001b[39m::\u001b[32marrange()\u001b[39m    masks \u001b[34mplyr\u001b[39m::arrange()\n",
      "\u001b[31m✖\u001b[39m \u001b[34mmodelr\u001b[39m::\u001b[32mbootstrap()\u001b[39m masks \u001b[34mbroom\u001b[39m::bootstrap()\n",
      "\u001b[31m✖\u001b[39m \u001b[34mpurrr\u001b[39m::\u001b[32mcompact()\u001b[39m    masks \u001b[34mplyr\u001b[39m::compact()\n",
      "\u001b[31m✖\u001b[39m \u001b[34mdplyr\u001b[39m::\u001b[32mcount()\u001b[39m      masks \u001b[34mplyr\u001b[39m::count()\n",
      "\u001b[31m✖\u001b[39m \u001b[34mdplyr\u001b[39m::\u001b[32mdesc()\u001b[39m       masks \u001b[34mplyr\u001b[39m::desc()\n",
      "\u001b[31m✖\u001b[39m \u001b[34mscales\u001b[39m::\u001b[32mdiscard()\u001b[39m   masks \u001b[34mpurrr\u001b[39m::discard()\n",
      "\u001b[31m✖\u001b[39m \u001b[34mMatrix\u001b[39m::\u001b[32mexpand()\u001b[39m    masks \u001b[34mtidyr\u001b[39m::expand()\n",
      "\u001b[31m✖\u001b[39m \u001b[34mdplyr\u001b[39m::\u001b[32mfailwith()\u001b[39m   masks \u001b[34mplyr\u001b[39m::failwith()\n",
      "\u001b[31m✖\u001b[39m \u001b[34mdplyr\u001b[39m::\u001b[32mfilter()\u001b[39m     masks \u001b[34mstats\u001b[39m::filter()\n",
      "\u001b[31m✖\u001b[39m \u001b[34mrecipes\u001b[39m::\u001b[32mfixed()\u001b[39m    masks \u001b[34mstringr\u001b[39m::fixed()\n",
      "\u001b[31m✖\u001b[39m \u001b[34mdplyr\u001b[39m::\u001b[32mid()\u001b[39m         masks \u001b[34mplyr\u001b[39m::id()\n",
      "\u001b[31m✖\u001b[39m \u001b[34mdbplyr\u001b[39m::\u001b[32mident()\u001b[39m     masks \u001b[34mdplyr\u001b[39m::ident()\n",
      "\u001b[31m✖\u001b[39m \u001b[34mdplyr\u001b[39m::\u001b[32mlag()\u001b[39m        masks \u001b[34mstats\u001b[39m::lag()\n",
      "\u001b[31m✖\u001b[39m \u001b[34myardstick\u001b[39m::\u001b[32mmae()\u001b[39m    masks \u001b[34mmodelr\u001b[39m::mae()\n",
      "\u001b[31m✖\u001b[39m \u001b[34myardstick\u001b[39m::\u001b[32mmape()\u001b[39m   masks \u001b[34mmodelr\u001b[39m::mape()\n",
      "\u001b[31m✖\u001b[39m \u001b[34mdplyr\u001b[39m::\u001b[32mmutate()\u001b[39m     masks \u001b[34mplyr\u001b[39m::mutate()\n",
      "\u001b[31m✖\u001b[39m \u001b[34mMatrix\u001b[39m::\u001b[32mpack()\u001b[39m      masks \u001b[34mtidyr\u001b[39m::pack()\n",
      "\u001b[31m✖\u001b[39m \u001b[34mcar\u001b[39m::\u001b[32mrecode()\u001b[39m       masks \u001b[34mdplyr\u001b[39m::recode()\n",
      "\u001b[31m✖\u001b[39m \u001b[34mdplyr\u001b[39m::\u001b[32mrename()\u001b[39m     masks \u001b[34mplyr\u001b[39m::rename()\n",
      "\u001b[31m✖\u001b[39m \u001b[34myardstick\u001b[39m::\u001b[32mrmse()\u001b[39m   masks \u001b[34mmodelr\u001b[39m::rmse()\n",
      "\u001b[31m✖\u001b[39m \u001b[34mcar\u001b[39m::\u001b[32msome()\u001b[39m         masks \u001b[34mpurrr\u001b[39m::some()\n",
      "\u001b[31m✖\u001b[39m \u001b[34myardstick\u001b[39m::\u001b[32mspec()\u001b[39m   masks \u001b[34mreadr\u001b[39m::spec()\n",
      "\u001b[31m✖\u001b[39m \u001b[34mdbplyr\u001b[39m::\u001b[32msql()\u001b[39m       masks \u001b[34mdplyr\u001b[39m::sql()\n",
      "\u001b[31m✖\u001b[39m \u001b[34mrecipes\u001b[39m::\u001b[32mstep()\u001b[39m     masks \u001b[34mstats\u001b[39m::step()\n",
      "\u001b[31m✖\u001b[39m \u001b[34mdplyr\u001b[39m::\u001b[32msummarise()\u001b[39m  masks \u001b[34mplyr\u001b[39m::summarise()\n",
      "\u001b[31m✖\u001b[39m \u001b[34mdplyr\u001b[39m::\u001b[32msummarize()\u001b[39m  masks \u001b[34mplyr\u001b[39m::summarize()\n",
      "\u001b[31m✖\u001b[39m \u001b[34mMatrix\u001b[39m::\u001b[32munpack()\u001b[39m    masks \u001b[34mtidyr\u001b[39m::unpack()\n",
      "\u001b[31m✖\u001b[39m \u001b[34mrecipes\u001b[39m::\u001b[32mupdate()\u001b[39m   masks \u001b[34mMatrix\u001b[39m::update(), \u001b[34mstats\u001b[39m::update()\n",
      "\u001b[34m•\u001b[39m Use suppressPackageStartupMessages() to eliminate package startup messages\n",
      "\n",
      "\n",
      "Attaching package: ‘mltools’\n",
      "\n",
      "\n",
      "The following objects are masked from ‘package:yardstick’:\n",
      "\n",
      "    mcc, rmse\n",
      "\n",
      "\n",
      "The following objects are masked from ‘package:modelr’:\n",
      "\n",
      "    mse, rmse\n",
      "\n",
      "\n",
      "The following object is masked from ‘package:tidyr’:\n",
      "\n",
      "    replace_na\n",
      "\n",
      "\n",
      "Loading required package: lattice\n",
      "\n",
      "\n",
      "Attaching package: ‘caret’\n",
      "\n",
      "\n",
      "The following objects are masked from ‘package:yardstick’:\n",
      "\n",
      "    precision, recall, sensitivity, specificity\n",
      "\n",
      "\n",
      "The following object is masked from ‘package:survival’:\n",
      "\n",
      "    cluster\n",
      "\n",
      "\n",
      "The following object is masked from ‘package:purrr’:\n",
      "\n",
      "    lift\n",
      "\n",
      "\n"
     ]
    }
   ],
   "source": [
    "# Attaching packages. Source: Course worksheets\n",
    "library(plyr)\n",
    "library(dplyr)\n",
    "library(dbplyr)\n",
    "library(tidyverse)\n",
    "library(cowplot)\n",
    "library(ggplot2)\n",
    "library(reshape2)\n",
    "library(repr)\n",
    "library(infer)\n",
    "library(broom)\n",
    "library(AER)\n",
    "library(modelr)\n",
    "library(glmnet)\n",
    "library(tidymodels)\n",
    "library(mltools)\n",
    "library(caret)"
   ]
  },
  {
   "cell_type": "code",
   "execution_count": 3,
   "id": "0c1d9d29",
   "metadata": {
    "tags": []
   },
   "outputs": [
    {
     "data": {
      "text/html": [
       "<table class=\"dataframe\">\n",
       "<caption>A data.frame: 6 × 7</caption>\n",
       "<thead>\n",
       "\t<tr><th></th><th scope=col>Education</th><th scope=col>City</th><th scope=col>PaymentTier</th><th scope=col>Age</th><th scope=col>EverBenched</th><th scope=col>ExperienceInCurrentDomain</th><th scope=col>LeaveOrNot</th></tr>\n",
       "\t<tr><th></th><th scope=col>&lt;chr&gt;</th><th scope=col>&lt;chr&gt;</th><th scope=col>&lt;int&gt;</th><th scope=col>&lt;int&gt;</th><th scope=col>&lt;chr&gt;</th><th scope=col>&lt;int&gt;</th><th scope=col>&lt;int&gt;</th></tr>\n",
       "</thead>\n",
       "<tbody>\n",
       "\t<tr><th scope=row>1</th><td>Bachelors</td><td>Bangalore</td><td>3</td><td>34</td><td>No </td><td>0</td><td>0</td></tr>\n",
       "\t<tr><th scope=row>2</th><td>Bachelors</td><td>Pune     </td><td>1</td><td>28</td><td>No </td><td>3</td><td>1</td></tr>\n",
       "\t<tr><th scope=row>3</th><td>Bachelors</td><td>New Delhi</td><td>3</td><td>38</td><td>No </td><td>2</td><td>0</td></tr>\n",
       "\t<tr><th scope=row>4</th><td>Masters  </td><td>Bangalore</td><td>3</td><td>27</td><td>No </td><td>5</td><td>1</td></tr>\n",
       "\t<tr><th scope=row>5</th><td>Masters  </td><td>Pune     </td><td>3</td><td>24</td><td>Yes</td><td>2</td><td>1</td></tr>\n",
       "\t<tr><th scope=row>6</th><td>Bachelors</td><td>Bangalore</td><td>3</td><td>22</td><td>No </td><td>0</td><td>0</td></tr>\n",
       "</tbody>\n",
       "</table>\n"
      ],
      "text/latex": [
       "A data.frame: 6 × 7\n",
       "\\begin{tabular}{r|lllllll}\n",
       "  & Education & City & PaymentTier & Age & EverBenched & ExperienceInCurrentDomain & LeaveOrNot\\\\\n",
       "  & <chr> & <chr> & <int> & <int> & <chr> & <int> & <int>\\\\\n",
       "\\hline\n",
       "\t1 & Bachelors & Bangalore & 3 & 34 & No  & 0 & 0\\\\\n",
       "\t2 & Bachelors & Pune      & 1 & 28 & No  & 3 & 1\\\\\n",
       "\t3 & Bachelors & New Delhi & 3 & 38 & No  & 2 & 0\\\\\n",
       "\t4 & Masters   & Bangalore & 3 & 27 & No  & 5 & 1\\\\\n",
       "\t5 & Masters   & Pune      & 3 & 24 & Yes & 2 & 1\\\\\n",
       "\t6 & Bachelors & Bangalore & 3 & 22 & No  & 0 & 0\\\\\n",
       "\\end{tabular}\n"
      ],
      "text/markdown": [
       "\n",
       "A data.frame: 6 × 7\n",
       "\n",
       "| <!--/--> | Education &lt;chr&gt; | City &lt;chr&gt; | PaymentTier &lt;int&gt; | Age &lt;int&gt; | EverBenched &lt;chr&gt; | ExperienceInCurrentDomain &lt;int&gt; | LeaveOrNot &lt;int&gt; |\n",
       "|---|---|---|---|---|---|---|---|\n",
       "| 1 | Bachelors | Bangalore | 3 | 34 | No  | 0 | 0 |\n",
       "| 2 | Bachelors | Pune      | 1 | 28 | No  | 3 | 1 |\n",
       "| 3 | Bachelors | New Delhi | 3 | 38 | No  | 2 | 0 |\n",
       "| 4 | Masters   | Bangalore | 3 | 27 | No  | 5 | 1 |\n",
       "| 5 | Masters   | Pune      | 3 | 24 | Yes | 2 | 1 |\n",
       "| 6 | Bachelors | Bangalore | 3 | 22 | No  | 0 | 0 |\n",
       "\n"
      ],
      "text/plain": [
       "  Education City      PaymentTier Age EverBenched ExperienceInCurrentDomain\n",
       "1 Bachelors Bangalore 3           34  No          0                        \n",
       "2 Bachelors Pune      1           28  No          3                        \n",
       "3 Bachelors New Delhi 3           38  No          2                        \n",
       "4 Masters   Bangalore 3           27  No          5                        \n",
       "5 Masters   Pune      3           24  Yes         2                        \n",
       "6 Bachelors Bangalore 3           22  No          0                        \n",
       "  LeaveOrNot\n",
       "1 0         \n",
       "2 1         \n",
       "3 0         \n",
       "4 1         \n",
       "5 1         \n",
       "6 0         "
      ]
     },
     "metadata": {},
     "output_type": "display_data"
    }
   ],
   "source": [
    "#Main Developer: Benedictus Harley Kartawidjaja\n",
    "#Contributor: Nathan Chang\n",
    "\n",
    "employee <- read.csv(\"data/Employee.csv\", header = TRUE)\n",
    "\n",
    "employee <- employee |>\n",
    "    select(-Gender, -JoiningYear)\n",
    "\n",
    "head(employee)"
   ]
  },
  {
   "cell_type": "markdown",
   "id": "c8b9de0c",
   "metadata": {},
   "source": [
    "**Figure 1: Preview of Employee Data (First 6 Rows)**"
   ]
  },
  {
   "cell_type": "markdown",
   "id": "d4064d0c",
   "metadata": {},
   "source": [
    "**Figure 1**\\\n",
    "Preview of Employee Data (First 6 Rows)"
   ]
  },
  {
   "cell_type": "code",
   "execution_count": null,
   "id": "cec050d6",
   "metadata": {
    "tags": []
   },
   "outputs": [],
   "source": [
    "#Main Developer: Benedictus Harley Kartawidjaja\n",
    "\n",
    "unique(employee$LeaveOrNot) # 2 levels (0, 1)\n",
    "unique(employee$ExperienceInCurrentDomain) # 8 levels (0 - 7)\n",
    "unique(employee$EverBenched) #  2 levels (\"No\" and \"Yes\")\n",
    "unique(employee$PaymentTier) # 3 levels (1, 2, and 3)\n",
    "unique(employee$City) # 3 levels (\"Bangalore\", \"Pune\", and \"New Delhi\")\n",
    "unique(employee$Education) # 3 levels (\"Bachelors\", \"Masters\", and \"PHD\")"
   ]
  },
  {
   "cell_type": "markdown",
   "id": "0d95314e",
   "metadata": {
    "tags": []
   },
   "source": [
    "**Figure 2: Unique Values in Selected Employee Data Columns**"
   ]
  },
  {
   "cell_type": "code",
   "execution_count": null,
   "id": "c8e9baf5",
   "metadata": {
    "tags": []
   },
   "outputs": [],
   "source": [
    "#Main Developer: Benedictus Harley Kartawidjaja\n",
    "\n",
    "employee <- employee |>\n",
    "    mutate(EverBenched = ifelse(EverBenched == \"Yes\", 1, 0),   # EverBenched into 0 for \"No\" and 1 for \"Yes\"\n",
    "           City = ifelse(City == \"Pune\", 1,\n",
    "                        ifelse(City == \"New Delhi\", 2, 0)),   # \"Bangalore\" is 0, \"Pune\" is 1, \"New Delhi\" is 2\n",
    "           Education = ifelse(Education == \"Masters\", 1,\n",
    "                             ifelse(Education == \"PHD\", 2, 0)))   # \"Bachelors\" is 0, \"Masters\" is 1, \"PHD\" is 2\n",
    "head(employee)"
   ]
  },
  {
   "cell_type": "markdown",
   "id": "27e03b5a",
   "metadata": {},
   "source": [
    "**Figure 3: Transformation of 'EverBenched', 'City', and 'Education' Columns into Numeric Values**"
   ]
  },
  {
   "cell_type": "markdown",
   "id": "83d4fbd0",
   "metadata": {},
   "source": [
    "### b. Methods and Plan"
   ]
  },
  {
   "cell_type": "markdown",
   "id": "2c41ce0b",
   "metadata": {
    "tags": []
   },
   "source": [
    "### Making a Heatmap\n",
    "\n",
    "Using a **heatmap**, we evaluated the correlation of all our predictors with response and each other. We then used the results of our heatmap to guide whether we include or exclude a predictor in our analysis. "
   ]
  },
  {
   "cell_type": "code",
   "execution_count": null,
   "id": "5b30dbc5",
   "metadata": {
    "tags": []
   },
   "outputs": [],
   "source": [
    "#Main Developer: Nathan Chang\n",
    "\n",
    "corr_matrix_employee <- \n",
    "   employee %>%\n",
    "   cor() %>%\n",
    "   as_tibble(rownames = 'var1') %>%\n",
    "   pivot_longer(-var1, names_to = \"var2\", values_to = \"corr\")\n",
    "\n",
    "head(corr_matrix_employee)"
   ]
  },
  {
   "cell_type": "markdown",
   "id": "2e0ecf49",
   "metadata": {},
   "source": [
    "**Figure 4: Correlation Matrix for Employee Data (First 6 Rows)**"
   ]
  },
  {
   "cell_type": "code",
   "execution_count": null,
   "id": "95fae421",
   "metadata": {
    "tags": []
   },
   "outputs": [],
   "source": [
    "#Main Developer: Nathan Chang\n",
    "\n",
    "options(repr.plot.width = 10, repr.plot.height = 6) \n",
    "\n",
    "employee_processed_plot <- \n",
    "  corr_matrix_employee %>%\n",
    "  ggplot(aes(var1, var2)) +\n",
    "  geom_tile(aes(fill = corr), color = \"white\") +\n",
    "  scale_fill_distiller(\"Correlation Coefficient \\n\",\n",
    "      palette =  \"YlOrRd\",\n",
    "      direction = 1, \n",
    "      limits = c(-1, 1)\n",
    "    ) +\n",
    "    labs(x = \"\", y = \"\") +\n",
    "    theme_minimal() +\n",
    "    theme(\n",
    "        axis.text.x = element_text(angle = 45, vjust = 1, size = 14, hjust = 1),\n",
    "        axis.text.y = element_text(vjust = 1, size = 14, hjust = 1),\n",
    "        legend.title = element_text(size = 18),\n",
    "        legend.text = element_text(size = 12),\n",
    "        legend.key.size = unit(1.5, \"cm\")\n",
    "    ) +\n",
    "    coord_fixed() + geom_text(aes(var1, var2, label = round(corr, 2)), color = \"black\", size = 6)\n",
    "\n",
    "employee_processed_plot"
   ]
  },
  {
   "cell_type": "markdown",
   "id": "58ec5084",
   "metadata": {},
   "source": [
    "**Figure 5: Heatmap of Correlation Coefficients Between Employee Data Variables**"
   ]
  },
  {
   "cell_type": "markdown",
   "id": "e3c37891",
   "metadata": {
    "tags": []
   },
   "source": [
    "### Interpreting the Heatmap:\n",
    "\n",
    "Based on the results of our heatmap, none of our predictors are highly correlated with each other (corr ranges from -0.14 to 0.39). This suggests that our predictors don't interact with each other very much. This suggests that an additive model would be appropriate given the lack of interaction between predictors.\n",
    "\n",
    "Additionally, our predictors (when considered individually) aren't very correlated with our response, LeaveOrNot (corr ranges from -0.05 to 0.2). When considered together, it may be possible to develop a more reliable model. As such, we elected to not exclude any predictors."
   ]
  },
  {
   "cell_type": "markdown",
   "id": "b08d8802",
   "metadata": {},
   "source": [
    "### Our Plan:\n",
    "\n",
    "To approach our question, we will conduct **logistic regression** as our response is a binary variable. This will be fit for a **predictive model**.\n",
    "\n",
    "As seen from the EDA and Correlation Heatmap above, we had a wide selection of predictors to select from. To constrain variables that are deemed relevant to our topic, we split our dataset and performed **LASSO Regularization** to shrink our model before performing regression.  We then evaluated our model."
   ]
  },
  {
   "cell_type": "markdown",
   "id": "028a4f4d",
   "metadata": {},
   "source": [
    "### Feature Selection:\n",
    "\n",
    "The goal for our LASSO regularization was to find the optimum number of predictors that produces the highest average AUC. In doing so, the LASSO method reduces the number of predictors we used in our model to improve our model’s interpretability. \n",
    "\n",
    "Cross-fold validation was used to select the number of parameters as it reduces the risk of overfitting, tunes parameters and selects those that generalize well to new data, and reduces variability.\n",
    "\n",
    "We then split our data into a 60-40 split and dropped `Gender` and `JoiningYear` as per the reasons in the intro."
   ]
  },
  {
   "cell_type": "code",
   "execution_count": null,
   "id": "666989a7",
   "metadata": {
    "tags": []
   },
   "outputs": [],
   "source": [
    "# Main Developer: Andy Hong\n",
    "\n",
    "set.seed(1234)\n",
    "\n",
    "## load data\n",
    "employee  <- read.csv(\"data/Employee.csv\")\n",
    "\n",
    "## split into training and testing\n",
    "split <- initial_split(employee, prop = 0.6) \n",
    "\n",
    "employee_training <- training(split) %>%\n",
    "    select(-Gender, -JoiningYear)\n",
    "employee_testing <- testing(split) %>%\n",
    "    select(-Gender, -JoiningYear)\n",
    "\n",
    "model_matrix_X_train <- \n",
    "    model.matrix(LeaveOrNot ~ ., employee_training)[,-1]\n",
    "\n",
    "matrix_Y_train <- \n",
    "    as.matrix(employee_training$LeaveOrNot, ncol = 1)"
   ]
  },
  {
   "cell_type": "markdown",
   "id": "e38760a5",
   "metadata": {},
   "source": [
    "With our prepared training data, we used `cv.glmnet` to find the optimal $\\lambda$ value that provides the largest average AUC and used 5-fold cross validation."
   ]
  },
  {
   "cell_type": "code",
   "execution_count": null,
   "id": "0797f0a2",
   "metadata": {
    "tags": []
   },
   "outputs": [],
   "source": [
    "# Main Developer: Andy Hong\n",
    "\n",
    "set.seed(1234)\n",
    "\n",
    "employee_cv_lambda_LASSO <- \n",
    "  cv.glmnet(\n",
    "  x = model_matrix_X_train, y = matrix_Y_train,\n",
    "  alpha = 1,\n",
    "  family = 'binomial',\n",
    "  type.measure = 'auc',\n",
    "  nfolds = 5)\n",
    "\n",
    "employee_cv_lambda_LASSO"
   ]
  },
  {
   "cell_type": "markdown",
   "id": "13a78389",
   "metadata": {},
   "source": [
    "**Figure 6: Cross-Validation Results for LASSO Logistic Regression Model on Employee Data**"
   ]
  },
  {
   "cell_type": "code",
   "execution_count": null,
   "id": "9ae590ae",
   "metadata": {
    "tags": []
   },
   "outputs": [],
   "source": [
    "# Main Developer: Andy Hong\n",
    "\n",
    "set.seed(1234)\n",
    "\n",
    "options(repr.plot.width = 10, repr.plot.height = 6)\n",
    "\n",
    "plot(employee_cv_lambda_LASSO, main = \"Cross-Validation with LASSO\\n\\n\")"
   ]
  },
  {
   "cell_type": "markdown",
   "id": "ddd30f3c",
   "metadata": {},
   "source": [
    "**Figure 7: LASSO Cross-Validation Plot for Employee Data**"
   ]
  },
  {
   "cell_type": "markdown",
   "id": "64103efb",
   "metadata": {},
   "source": [
    "The numbers across the top of the graph indicate the number of predictors (value of $\\lambda$) used. For our case, we used the second line to the right which represents $\\hat{\\lambda}_{\\text{1SE}}$ from figure 2, as our goal is to improve model interpretibility and $\\hat{\\lambda}_{\\text{1SE}}$ has less covarites. \n"
   ]
  },
  {
   "cell_type": "code",
   "execution_count": null,
   "id": "dbac6f6b",
   "metadata": {
    "tags": []
   },
   "outputs": [],
   "source": [
    "# Main Developer: Andy Hong\n",
    "\n",
    "set.seed(1234)\n",
    "\n",
    "employee_cv_lambda1se_LASSO_value <- round(employee_cv_lambda_LASSO$lambda.1se, 4)\n",
    "employee_cv_lambda1se_LASSO_value"
   ]
  },
  {
   "cell_type": "markdown",
   "id": "25d679bd",
   "metadata": {},
   "source": [
    "We then used this value for LASSO to determine which predictors to select using `glmnet`."
   ]
  },
  {
   "cell_type": "code",
   "execution_count": null,
   "id": "7abb9e70",
   "metadata": {
    "tags": []
   },
   "outputs": [],
   "source": [
    "# Main Developer: Andy Hong\n",
    "\n",
    "set.seed(1234)\n",
    "\n",
    "employee_LASSO <- glmnet(\n",
    "x = model_matrix_X_train, y = matrix_Y_train,\n",
    "  alpha = 1,\n",
    "  family = 'binomial',\n",
    "  lambda = employee_cv_lambda1se_LASSO_value\n",
    ")\n",
    "\n",
    "coef(employee_LASSO)"
   ]
  },
  {
   "cell_type": "markdown",
   "id": "9f87ea72",
   "metadata": {},
   "source": [
    "**Figure 8: Coefficients of LASSO Logistic Regression Model for Employee Data**"
   ]
  },
  {
   "cell_type": "markdown",
   "id": "533a1801",
   "metadata": {},
   "source": [
    "Our LASSO suggested we use `EducationMasters`, `CityNew Delhi`, `CityPune`, `PaymentTier`, `Age`,  and `EverBenchedYes` as our parameters. We chose to use the base predictors, rather than subsets of our variables (`EverBenchedYes` rather than just `EverBenched`) to improve simplicity and model interpretability. "
   ]
  },
  {
   "cell_type": "markdown",
   "id": "8ed8eec7",
   "metadata": {},
   "source": [
    "### Testing the Model\n",
    "\n",
    "We fitted a  logistic model based on the covariates found above using the training data. Then, we used the trained model to predict the testing data displayed in a confusion matrix."
   ]
  },
  {
   "cell_type": "code",
   "execution_count": null,
   "id": "692e8a7c",
   "metadata": {
    "tags": []
   },
   "outputs": [],
   "source": [
    "# Main Developer: Andy Hong\n",
    "\n",
    "set.seed(1234)\n",
    "\n",
    "employee_logistic_model <- glm(LeaveOrNot ~ Education + City + PaymentTier + Age + EverBenched, \n",
    "                               data = employee_training, family = 'binomial')\n",
    "\n",
    "employee_pred_class <- round(predict(employee_logistic_model, newdata = employee_testing, type = 'response'))\n",
    "\n",
    "employee_confusion_matrix <- \n",
    "    confusionMatrix(\n",
    "    data = as.factor(employee_pred_class),\n",
    "    reference = as.factor(employee_testing$LeaveOrNot),\n",
    "    positive = '1'\n",
    ")\n",
    "employee_confusion_matrix"
   ]
  },
  {
   "cell_type": "markdown",
   "id": "86de5332",
   "metadata": {},
   "source": [
    "**Figure 9: Confusion Matrix for Logistic Regression Model Predicting Employee Leave Status**"
   ]
  },
  {
   "cell_type": "markdown",
   "id": "3a611f01",
   "metadata": {},
   "source": [
    "Our model yielded an accuracy level of 68.89%, which is the percentage of correct predictions that our model (which was trained on `employee_training`) made against the `employee_testing` data (unseen observations). Our model had a sensitivity of 0.3418, with the desired rate being closer to 1. Our model had a Cohen's Kappa score of 0.2278, with the desired score being closer to 1.\n",
    "\n",
    "The p-value in the confusion matrix uses a one-sided test if the accuracy is better than having no information (NIR = No Information Rate). Our model reported a p-value of 0.008504, which is less than 0.05. This indicates our results are statistically significant at the 0.05 significance level. What about covariates? \n",
    "\n",
    "As seen above, p-values for all covariates used (hence excluding EducationPHD) were less than a significance level of 0.05. \n",
    "\n",
    "As a model assessment, we can say that predicting employee retention based off of these covariates will achieve an accurate result around 68.89% of the time.s. Let's look at how the testing data was collected: the employee data set was anonymized in different demographics, and was found on a public domain. Furthermore, there is mainly quantitative data collected, with no information on workplace conditions or culture. Therefore our model can be assessed as good for what we were given.\n"
   ]
  },
  {
   "cell_type": "code",
   "execution_count": null,
   "id": "0c4e7008",
   "metadata": {},
   "outputs": [],
   "source": [
    "# Main Developer: Dakshish Raj Paulvannan\n",
    "# Contributors: Andy Hong (name)\n",
    "\n",
    "tidy(employee_logistic_model)"
   ]
  },
  {
   "cell_type": "markdown",
   "id": "870718d9",
   "metadata": {},
   "source": [
    "**Figure 10: Summary of Logistic Regression Model Coefficients for Employee Data**"
   ]
  },
  {
   "cell_type": "markdown",
   "id": "86a1160a",
   "metadata": {},
   "source": [
    "## 3. Discussion\n",
    "\n",
    "### Summary of Findings\n",
    "\n",
    "The primary goal of our analysis is to analyze potential predictors to determine the odds of an employee staying or leaving a company. Using logistic regression with LASSO regularization, we have identified 5 significant predictors: Education, PaymentTier, City, Age, and EverBenched."
   ]
  },
  {
   "cell_type": "markdown",
   "id": "34bdc6d2",
   "metadata": {},
   "source": [
    "### Key Findings\n",
    "\n",
    "**Education**: Our analysis suggests employees with higher education levels have a higher turnover rate. This might be due to employees having higher demand compared to employees with just a Bachelors.\n",
    "\n",
    "**City**: Our model suggests location influences employee retention. However, an interesting find is that employees are significantly more likely to leave their job in a city like Pune compared to New Delhi. This may be caused by differences in work culture or the availability of roles with higher salaries (Sheridan 1993).\n",
    "\n",
    "**PaymentTier**: Employees in higher payment tiers have a lower turnover rate. This aligns with the common understanding that better compensation incentivizes employees to remain at the company, increasing retention. \n",
    "\n",
    "**Age**: Older employees are more likely to remain at the company. Shapiro et al. (2022) investigates how years of service influence retention rates, noting that younger employees get burnout more easily, causing them to have a higher probability of leaving.\n",
    "\n",
    "**EverBenched**: Employees who have experienced being benched (period of time without work) are more likely to leave. These extended periods without work may have create"
   ]
  },
  {
   "cell_type": "markdown",
   "id": "b3a0bf33",
   "metadata": {},
   "source": [
    "### Implications and Impact\n",
    "\n",
    "By understanding the factors that significantly contribute to the retention of the employees, companies can develop targeted strategies to improve retention. For example:\n",
    "- **Enhance employee compensation packages**: Improving the salary structures, especially for lower payment tiers, could help reduce turnover. Companies can give bonuses to employees with better education, incentivising them to stay in the company long term.\n",
    "\n",
    "- **Career progression opportunities**: Ensuring a clear path for progression such as guaranteed promotion especially for employees with a requisite education level after a set period of time or completed work may also incentivize employees to stay longer.\n",
    "\n",
    "- **Location**: The company may consider focusing its operations in a location with a higher retention rate such as New Delhi instead of Pune where the retention rate is lower, or further investigate the discrepancy in retention rate between locations.\n",
    "\n",
    "- **Workload**: The company should ensure that every employee has consistent work assignments as benching can negatively impact employee retention. "
   ]
  },
  {
   "cell_type": "markdown",
   "id": "39059279",
   "metadata": {},
   "source": [
    "### Model Improvements\n",
    "\n",
    "While the logistic regression model with LASSO regularization was able to provide valuable insights, there are several ways it could be improved:\n",
    "\n",
    "- **Inclusion of More Predictors Incorporating** - additional predictors can enhance the model's comprehensiveness and predictive power. Potential additional predictors include:\n",
    "    - **Role**: Different roles may have varying turnover rates due to differences in job satisfaction, career progression opportunities, and market demand.\n",
    "    - **Performance Metrics**: Employee performance scores, such as key performance indicators (KPIs), can provide insights into employee satisfaction and engagement.\n",
    "    - **Work-Life Balance**: Metrics or survey data related to work-life balance can help identify if employees are leaving due to burnout or work-related stress.\n",
    "    \n",
    "- **Advanced Models** - Exploring more sophisticated models can improve predictive performance and provide deeper insights:\n",
    "    - **Random Forest**: An ensemble learning method that can capture non-linear relationships and interactions between predictors."
   ]
  },
  {
   "cell_type": "markdown",
   "id": "e849605b",
   "metadata": {},
   "source": [
    "### Future Questions and Research\n",
    "\n",
    "The findings from this study open up several avenues for future research, each aiming to deepen the understanding of employee turnover and develop more effective retention strategies. Some potential questions and research directions include:\n",
    "- How does organizational and work culture influence employee retention? Future research could explore the specific aspects of organizational culture that contribute to higher or lower retention rates. \n",
    "\n",
    "- How do career development opportunities affect employee retention? Research could focus on the relationship between career development programs (training, mentorship, and promotion opportunities) and employee retention rates.\n",
    "\n",
    "- How do employee retention patterns differ across countries and cultures? Comparative studies across different geographic regions and cultures can reveal unique turnover patterns and inform globally applicable retention strategies. "
   ]
  },
  {
   "cell_type": "markdown",
   "id": "4a7131c3",
   "metadata": {},
   "source": [
    "## 4. References\n",
    "Das, Bidisha Lahkar, and Mukulesh Baruah. \"Employee retention: A review of literature.\" *Journal of business and management* 14.2 (2013): 8-16.\n",
    "\n",
    "Elmetwally, Tawfik. “Employee Dataset.” *Kaggle*, Public Domain, 6 Sept. 2023, www.kaggle.com/datasets/tawfikelmetwally/employee-dataset/data.\n",
    "\n",
    "Lijster, Marrit, and Georges El Hajal. “Beyond gender bias: Factors affecting female employee retention and advancement in the Dutch hotel sector.” *Research in Hospitality Management*, vol. 13, no. 2, 2023, pp. 83–92, https://doi.org/10.1080/22243534.2023.2277515. \n",
    "\n",
    "Shapiro, Daniel, et al. “The Seniority Swoop.” *Nursing Administration Quarterly*, vol. 46, no. 1, 2022, pp. 60–71, https://doi.org/10.1097/NAQ.0000000000000502. \n",
    "\n",
    "Sheridan, John E. \"Organizational culture and employee retention.\" *Academy of management Journal* 35.5 (1992): 1036-1056.\n",
    "\n",
    "Anand, Amitabh, Jessica Doll, and Prantika Ray. \"Drowning in silence: a scale development and validation of quiet quitting and quiet firing.\" *International Journal of Organizational Analysis* 32.4 (2024): 721-743."
   ]
  },
  {
   "cell_type": "code",
   "execution_count": null,
   "id": "c000de3e",
   "metadata": {},
   "outputs": [],
   "source": []
  }
 ],
 "metadata": {
  "kernelspec": {
   "display_name": "R",
   "language": "R",
   "name": "ir"
  },
  "language_info": {
   "codemirror_mode": "r",
   "file_extension": ".r",
   "mimetype": "text/x-r-source",
   "name": "R",
   "pygments_lexer": "r",
   "version": "4.2.3"
  }
 },
 "nbformat": 4,
 "nbformat_minor": 5
}
